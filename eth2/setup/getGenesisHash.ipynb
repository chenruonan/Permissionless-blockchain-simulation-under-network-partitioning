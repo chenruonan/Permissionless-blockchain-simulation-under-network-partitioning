{
 "cells": [
  {
   "cell_type": "code",
   "execution_count": 3,
   "metadata": {},
   "outputs": [
    {
     "data": {
      "text/plain": [
       "AttributeDict({'baseFeePerGas': 1000000000,\n",
       " 'difficulty': 1,\n",
       " 'extraData': HexBytes('0x'),\n",
       " 'gasLimit': 4194304,\n",
       " 'gasUsed': 0,\n",
       " 'hash': HexBytes('0xb84bf0f4f98d0a8c863f899e8770564570ae4785027845bbb4be293873585a92'),\n",
       " 'logsBloom': HexBytes('0x00000000000000000000000000000000000000000000000000000000000000000000000000000000000000000000000000000000000000000000000000000000000000000000000000000000000000000000000000000000000000000000000000000000000000000000000000000000000000000000000000000000000000000000000000000000000000000000000000000000000000000000000000000000000000000000000000000000000000000000000000000000000000000000000000000000000000000000000000000000000000000000000000000000000000000000000000000000000000000000000000000000000000000000000000000000'),\n",
       " 'miner': '0x0000000000000000000000000000000000000000',\n",
       " 'mixHash': HexBytes('0x0000000000000000000000000000000000000000000000000000000000000000'),\n",
       " 'nonce': HexBytes('0x0000000000001234'),\n",
       " 'number': 0,\n",
       " 'parentHash': HexBytes('0x0000000000000000000000000000000000000000000000000000000000000000'),\n",
       " 'receiptsRoot': HexBytes('0x56e81f171bcc55a6ff8345e692c0f86e5b48e01b996cadc001622fb5e363b421'),\n",
       " 'sha3Uncles': HexBytes('0x1dcc4de8dec75d7aab85b567b6ccd41ad312451b948a7413f0a142fd40d49347'),\n",
       " 'size': 513,\n",
       " 'stateRoot': HexBytes('0x8afbc9236a65830fcfa7764e0517cfc705a7c0cf9d802e73f56810cda288938c'),\n",
       " 'timestamp': 1662465600,\n",
       " 'totalDifficulty': 1,\n",
       " 'transactions': [],\n",
       " 'transactionsRoot': HexBytes('0x56e81f171bcc55a6ff8345e692c0f86e5b48e01b996cadc001622fb5e363b421'),\n",
       " 'uncles': []})"
      ]
     },
     "execution_count": 3,
     "metadata": {},
     "output_type": "execute_result"
    }
   ],
   "source": [
    "from web3 import Web3, EthereumTesterProvider\n",
    "from web3.middleware import geth_poa_middleware\n",
    "import web3\n",
    "import json\n",
    "import time\n",
    "import re\n",
    "import random\n",
    "import threading\n",
    "import time\n",
    "from datetime import datetime\n",
    "\n",
    "node1_ipaddr = \"http://192.168.32.141:6001\"\n",
    "node1 = Web3(Web3.HTTPProvider(node1_ipaddr))\n",
    "node1.eth.get_block(\"latest\")"
   ]
  }
 ],
 "metadata": {
  "kernelspec": {
   "display_name": "Python 3",
   "language": "python",
   "name": "python3"
  },
  "language_info": {
   "codemirror_mode": {
    "name": "ipython",
    "version": 3
   },
   "file_extension": ".py",
   "mimetype": "text/x-python",
   "name": "python",
   "nbconvert_exporter": "python",
   "pygments_lexer": "ipython3",
   "version": "3.8.10"
  }
 },
 "nbformat": 4,
 "nbformat_minor": 2
}
